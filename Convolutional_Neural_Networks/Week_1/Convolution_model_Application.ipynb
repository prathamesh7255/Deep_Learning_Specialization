{
 "cells": [
  {
   "cell_type": "markdown",
   "metadata": {},
   "source": [
    "# Convolutional Neural Networks: Application\n",
    "\n",
    "Welcome to Course 4's second assignment! In this notebook, you will:\n",
    "\n",
    "- Create a mood classifer using the TF Keras Sequential API\n",
    "- Build a ConvNet to identify sign language digits using the TF Keras Functional API\n",
    "\n",
    "**After this assignment you will be able to:**\n",
    "\n",
    "- Build and train a ConvNet in TensorFlow for a __binary__ classification problem\n",
    "- Build and train a ConvNet in TensorFlow for a __multiclass__ classification problem\n",
    "- Explain different use cases for the Sequential and Functional APIs\n",
    "\n",
    "To complete this assignment, you should already be familiar with TensorFlow. If you are not, please refer back to the **TensorFlow Tutorial** of the third week of Course 2 (\"**Improving deep neural networks**\").\n",
    "\n",
    "## Important Note on Submission to the AutoGrader\n",
    "\n",
    "Before submitting your assignment to the AutoGrader, please make sure you are not doing the following:\n",
    "\n",
    "1. You have not added any _extra_ `print` statement(s) in the assignment.\n",
    "2. You have not added any _extra_ code cell(s) in the assignment.\n",
    "3. You have not changed any of the function parameters.\n",
    "4. You are not using any global variables inside your graded exercises. Unless specifically instructed to do so, please refrain from it and use the local variables instead.\n",
    "5. You are not changing the assignment code where it is not required, like creating _extra_ variables.\n",
    "\n",
    "If you do any of the following, you will get something like, `Grader not found` (or similarly unexpected) error upon submitting your assignment. Before asking for help/debugging the errors in your assignment, check for these first. If this is the case, and you don't remember the changes you have made, you can get a fresh copy of the assignment by following these [instructions](https://www.coursera.org/learn/convolutional-neural-networks/supplement/DS4yP/h-ow-to-refresh-your-workspace)."
   ]
  },
  {
   "cell_type": "markdown",
   "metadata": {},
   "source": [
    "## Table of Contents\n",
    "\n",
    "- [1 - Packages](#1)\n",
    "    - [1.1 - Load the Data and Split the Data into Train/Test Sets](#1-1)\n",
    "- [2 - Layers in TF Keras](#2)\n",
    "- [3 - The Sequential API](#3)\n",
    "    - [3.1 - Create the Sequential Model](#3-1)\n",
    "        - [Exercise 1 - happyModel](#ex-1)\n",
    "    - [3.2 - Train and Evaluate the Model](#3-2)\n",
    "- [4 - The Functional API](#4)\n",
    "    - [4.1 - Load the SIGNS Dataset](#4-1)\n",
    "    - [4.2 - Split the Data into Train/Test Sets](#4-2)\n",
    "    - [4.3 - Forward Propagation](#4-3)\n",
    "        - [Exercise 2 - convolutional_model](#ex-2)\n",
    "    - [4.4 - Train the Model](#4-4)\n",
    "- [5 - History Object](#5)\n",
    "- [6 - Bibliography](#6)"
   ]
  },
  {
   "cell_type": "markdown",
   "metadata": {},
   "source": [
    "<a name='1'></a>\n",
    "## 1 - Packages\n",
    "\n",
    "As usual, begin by loading in the packages."
   ]
  },
  {
   "cell_type": "code",
   "execution_count": 1,
   "metadata": {},
   "outputs": [],
   "source": [
    "import math\n",
    "import numpy as np\n",
    "import h5py\n",
    "import matplotlib.pyplot as plt\n",
    "from matplotlib.pyplot import imread\n",
    "import scipy\n",
    "from PIL import Image\n",
    "import pandas as pd\n",
    "import tensorflow as tf\n",
    "import tensorflow.keras.layers as tfl\n",
    "from tensorflow.python.framework import ops\n",
    "from cnn_utils import *\n",
    "from test_utils import summary, comparator\n",
    "\n",
    "%matplotlib inline\n",
    "np.random.seed(1)"
   ]
  },
  {
   "cell_type": "markdown",
   "metadata": {},
   "source": [
    "<a name='1-1'></a>\n",
    "### 1.1 - Load the Data and Split the Data into Train/Test Sets\n",
    "\n",
    "You'll be using the Happy House dataset for this part of the assignment, which contains images of peoples' faces. Your task will be to build a ConvNet that determines whether the people in the images are smiling or not -- because they only get to enter the house if they're smiling!  "
   ]
  },
  {
   "cell_type": "code",
   "execution_count": 2,
   "metadata": {},
   "outputs": [
    {
     "name": "stdout",
     "output_type": "stream",
     "text": [
      "number of training examples = 600\n",
      "number of test examples = 150\n",
      "X_train shape: (600, 64, 64, 3)\n",
      "Y_train shape: (600, 1)\n",
      "X_test shape: (150, 64, 64, 3)\n",
      "Y_test shape: (150, 1)\n"
     ]
    }
   ],
   "source": [
    "X_train_orig, Y_train_orig, X_test_orig, Y_test_orig, classes = load_happy_dataset()\n",
    "\n",
    "# Normalize image vectors\n",
    "X_train = X_train_orig/255.\n",
    "X_test = X_test_orig/255.\n",
    "\n",
    "# Reshape\n",
    "Y_train = Y_train_orig.T\n",
    "Y_test = Y_test_orig.T\n",
    "\n",
    "print (\"number of training examples = \" + str(X_train.shape[0]))\n",
    "print (\"number of test examples = \" + str(X_test.shape[0]))\n",
    "print (\"X_train shape: \" + str(X_train.shape))\n",
    "print (\"Y_train shape: \" + str(Y_train.shape))\n",
    "print (\"X_test shape: \" + str(X_test.shape))\n",
    "print (\"Y_test shape: \" + str(Y_test.shape))"
   ]
  },
  {
   "cell_type": "markdown",
   "metadata": {},
   "source": [
    "You can display the images contained in the dataset. Images are **64x64** pixels in RGB format (3 channels)."
   ]
  },
  {
   "cell_type": "code",
   "execution_count": 3,
   "metadata": {},
   "outputs": [
    {
     "data": {
      "image/png": "[encoded data removed]",
      "text/plain": [
       "<Figure size 432x288 with 1 Axes>"
      ]
     },
     "metadata": {
      "needs_background": "light"
     },
     "output_type": "display_data"
    }
   ],
   "source": [
    "index = 124\n",
    "plt.imshow(X_train_orig[index]) #display sample training image\n",
    "plt.show()"
   ]
  },
  {
   "cell_type": "markdown",
   "metadata": {},
   "source": [
    "<a name='2'></a>\n",
    "## 2 - Layers in TF Keras \n",
    "\n",
    "In the previous assignment, you created layers manually in numpy. In TF Keras, you don't have to write code directly to create layers. Rather, TF Keras has pre-defined layers you can use. \n",
    "\n",
    "When you create a layer in TF Keras, you are creating a function that takes some input and transforms it into an output you can reuse later. Nice and easy! "
   ]
  },
  {
   "cell_type": "markdown",
   "metadata": {},
   "source": [
    "<a name='3'></a>\n",
    "## 3 - The Sequential API\n",
    "\n",
    "In the previous assignment, you built helper functions using `numpy` to understand the mechanics behind convolutional neural networks. Most practical applications of deep learning today are built using programming frameworks, which have many built-in functions you can simply call. Keras is a high-level abstraction built on top of TensorFlow, which allows for even more simplified and optimized model creation and training. \n",
    "\n",
    "For the first part of this assignment, you'll create a model using TF Keras' Sequential API, which allows you to build layer by layer, and is ideal for building models where each layer has **exactly one** input tensor and **one** output tensor. \n",
    "\n",
    "As you'll see, using the Sequential API is simple and straightforward, but is only appropriate for simpler, more straightforward tasks. Later in this notebook you'll spend some time building with a more flexible, powerful alternative: the Functional API. \n",
    " "
   ]
  },
  {
   "cell_type": "markdown",
   "metadata": {},
   "source": [
    "<a name='3-1'></a>\n",
    "### 3.1 - Create the Sequential Model\n",
    "\n",
    "As mentioned earlier, the TensorFlow Keras Sequential API can be used to build simple models with layer operations that proceed in a sequential order. \n",
    "\n",
    "You can also add layers incrementally to a Sequential model with the `.add()` method, or remove them using the `.pop()` method, much like you would in a regular Python list.\n",
    "\n",
    "Actually, you can think of a Sequential model as behaving like a list of layers. Like Python lists, Sequential layers are ordered, and the order in which they are specified matters.  If your model is non-linear or contains layers with multiple inputs or outputs, a Sequential model wouldn't be the right choice!\n",
    "\n",
    "For any layer construction in Keras, you'll need to specify the input shape in advance. This is because in Keras, the shape of the weights is based on the shape of the inputs. The weights are only created when the model first sees some input data. Sequential models can be created by passing a list of layers to the Sequential constructor, like you will do in the next assignment.\n",
    "\n",
    "<a name='ex-1'></a>\n",
    "### Exercise 1 - happyModel\n",
    "\n",
    "Implement the `happyModel` function below to build the following model: `ZEROPAD2D -> CONV2D -> BATCHNORM -> RELU -> MAXPOOL -> FLATTEN -> DENSE`. Take help from [tf.keras.layers](https://www.tensorflow.org/api_docs/python/tf/keras/layers) \n",
    "\n",
    "Also, plug in the following parameters for all the steps:\n",
    "\n",
    " - [ZeroPadding2D](https://www.tensorflow.org/api_docs/python/tf/keras/layers/ZeroPadding2D): padding 3, input shape 64 x 64 x 3\n",
    " - [Conv2D](https://www.tensorflow.org/api_docs/python/tf/keras/layers/Conv2D): Use 32 7x7 filters, stride 1\n",
    " - [BatchNormalization](https://www.tensorflow.org/api_docs/python/tf/keras/layers/BatchNormalization): for axis 3\n",
    " - [ReLU](https://www.tensorflow.org/api_docs/python/tf/keras/layers/ReLU)\n",
    " - [MaxPool2D](https://www.tensorflow.org/api_docs/python/tf/keras/layers/MaxPool2D): Using default parameters\n",
    " - [Flatten](https://www.tensorflow.org/api_docs/python/tf/keras/layers/Flatten) the previous output.\n",
    " - Fully-connected ([Dense](https://www.tensorflow.org/api_docs/python/tf/keras/layers/Dense)) layer: Apply a fully connected layer with 1 neuron and a sigmoid activation. \n",
    " \n",
    " \n",
    " **Hint:**\n",
    " \n",
    " Use **tfl** as shorthand for **tensorflow.keras.layers**"
   ]
  },
  {
   "cell_type": "code",
   "execution_count": 4,
   "metadata": {
    "deletable": false,
    "nbgrader": {
     "cell_type": "code",
     "checksum": "95d28b191f257bdd5b70c7b8952559d5",
     "grade": false,
     "grade_id": "cell-0e56d3fc28b69aec",
     "locked": false,
     "schema_version": 3,
     "solution": true,
     "task": false
    }
   },
   "outputs": [],
   "source": [
    "# GRADED FUNCTION: happyModel\n",
    "\n",
    "def happyModel():\n",
    "    \"\"\"\n",
    "    Implements the forward propagation for the binary classification model:\n",
    "    ZEROPAD2D -> CONV2D -> BATCHNORM -> RELU -> MAXPOOL -> FLATTEN -> DENSE\n",
    "    \n",
    "    Note that for simplicity and grading purposes, you'll hard-code all the values\n",
    "    such as the stride and kernel (filter) sizes. \n",
    "    Normally, functions should take these values as function parameters.\n",
    "    \n",
    "    Arguments:\n",
    "    None\n",
    "\n",
    "    Returns:\n",
    "    model -- TF Keras model (object containing the information for the entire training process) \n",
    "    \"\"\"\n",
    "    model = tf.keras.Sequential([\n",
    "            ## ZeroPadding2D with padding 3, input shape of 64 x 64 x 3\n",
    "            tf.keras.layers.ZeroPadding2D(padding=3,input_shape=(64,64,3)),\n",
    "            ## Conv2D with 32 7x7 filters and stride of 1\n",
    "            tf.keras.layers.Conv2D(32,(7,7)),\n",
    "            ## BatchNormalization for axis 3\n",
    "            tf.keras.layers.BatchNormalization(3),\n",
    "            ## ReLU\n",
    "            tf.keras.layers.ReLU(),\n",
    "            ## Max Pooling 2D with default parameters\n",
    "            tf.keras.layers.MaxPool2D(),\n",
    "            ## Flatten layer\n",
    "            tf.keras.layers.Flatten(),\n",
    "            ## Dense layer with 1 unit for output & 'sigmoid' activation\n",
    "            tf.keras.layers.Dense(1,'sigmoid')\n",
    "            # YOUR CODE STARTS HERE\n",
    "            \n",
    "            \n",
    "            # YOUR CODE ENDS HERE\n",
    "        ])\n",
    "    \n",
    "    return model"
   ]
  },
  {
   "cell_type": "code",
   "execution_count": 5,
   "metadata": {
    "deletable": false,
    "editable": false,
    "nbgrader": {
     "cell_type": "code",
     "checksum": "8d3575c950e2e78149be2d05d671c80d",
     "grade": true,
     "grade_id": "cell-e3e1046e5c33d775",
     "locked": true,
     "points": 10,
     "schema_version": 3,
     "solution": false,
     "task": false
    }
   },
   "outputs": [
    {
     "name": "stdout",
     "output_type": "stream",
     "text": [
      "['ZeroPadding2D', (None, 70, 70, 3), 0, ((3, 3), (3, 3))]\n",
      "['Conv2D', (None, 64, 64, 32), 4736, 'valid', 'linear', 'GlorotUniform']\n",
      "['BatchNormalization', (None, 64, 64, 32), 128]\n",
      "['ReLU', (None, 64, 64, 32), 0]\n",
      "['MaxPooling2D', (None, 32, 32, 32), 0, (2, 2), (2, 2), 'valid']\n",
      "['Flatten', (None, 32768), 0]\n",
      "['Dense', (None, 1), 32769, 'sigmoid']\n",
      "\u001b[32mAll tests passed!\u001b[0m\n"
     ]
    }
   ],
   "source": [
    "happy_model = happyModel()\n",
    "# Print a summary for each layer\n",
    "for layer in summary(happy_model):\n",
    "    print(layer)\n",
    "    \n",
    "output = [['ZeroPadding2D', (None, 70, 70, 3), 0, ((3, 3), (3, 3))],\n",
    "            ['Conv2D', (None, 64, 64, 32), 4736, 'valid', 'linear', 'GlorotUniform'],\n",
    "            ['BatchNormalization', (None, 64, 64, 32), 128],\n",
    "            ['ReLU', (None, 64, 64, 32), 0],\n",
    "            ['MaxPooling2D', (None, 32, 32, 32), 0, (2, 2), (2, 2), 'valid'],\n",
    "            ['Flatten', (None, 32768), 0],\n",
    "            ['Dense', (None, 1), 32769, 'sigmoid']]\n",
    "    \n",
    "comparator(summary(happy_model), output)"
   ]
  },
  {
   "cell_type": "markdown",
   "metadata": {},
   "source": [
    "#### Expected Output:\n",
    "\n",
    "```\n",
    "['ZeroPadding2D', (None, 70, 70, 3), 0, ((3, 3), (3, 3))]\n",
    "['Conv2D', (None, 64, 64, 32), 4736, 'valid', 'linear', 'GlorotUniform']\n",
    "['BatchNormalization', (None, 64, 64, 32), 128]\n",
    "['ReLU', (None, 64, 64, 32), 0]\n",
    "['MaxPooling2D', (None, 32, 32, 32), 0, (2, 2), (2, 2), 'valid']\n",
    "['Flatten', (None, 32768), 0]\n",
    "['Dense', (None, 1), 32769, 'sigmoid']\n",
    "All tests passed!\n",
    "```"
   ]
  },
  {
   "cell_type": "markdown",
   "metadata": {},
   "source": [
    "Now that your model is created, you can compile it for training with an optimizer and loss of your choice. When the string `accuracy` is specified as a metric, the type of accuracy used will be automatically converted based on the loss function used. This is one of the many optimizations built into TensorFlow that make your life easier! If you'd like to read more on how the compiler operates, check the docs [here](https://www.tensorflow.org/api_docs/python/tf/keras/Model#compile)."
   ]
  },
  {
   "cell_type": "code",
   "execution_count": 6,
   "metadata": {},
   "outputs": [],
   "source": [
    "happy_model.compile(optimizer='adam',\n",
    "                   loss='binary_crossentropy',\n",
    "                   metrics=['accuracy'])"
   ]
  },
  {
   "cell_type": "markdown",
   "metadata": {},
   "source": [
    "It's time to check your model's parameters with the `.summary()` method. This will display the types of layers you have, the shape of the outputs, and how many parameters are in each layer. "
   ]
  },
  {
   "cell_type": "code",
   "execution_count": 7,
   "metadata": {},
   "outputs": [
    {
     "name": "stdout",
     "output_type": "stream",
     "text": [
      "Model: \"sequential\"\n",
      "_________________________________________________________________\n",
      "Layer (type)                 Output Shape              Param #   \n",
      "=================================================================\n",
      "zero_padding2d (ZeroPadding2 (None, 70, 70, 3)         0         \n",
      "_________________________________________________________________\n",
      "conv2d (Conv2D)              (None, 64, 64, 32)        4736      \n",
      "_________________________________________________________________\n",
      "batch_normalization (BatchNo (None, 64, 64, 32)        128       \n",
      "_________________________________________________________________\n",
      "re_lu (ReLU)                 (None, 64, 64, 32)        0         \n",
      "_________________________________________________________________\n",
      "max_pooling2d (MaxPooling2D) (None, 32, 32, 32)        0         \n",
      "_________________________________________________________________\n",
      "flatten (Flatten)            (None, 32768)             0         \n",
      "_________________________________________________________________\n",
      "dense (Dense)                (None, 1)                 32769     \n",
      "=================================================================\n",
      "Total params: 37,633\n",
      "Trainable params: 37,569\n",
      "Non-trainable params: 64\n",
      "_________________________________________________________________\n"
     ]
    }
   ],
   "source": [
    "happy_model.summary()"
   ]
  },
  {
   "cell_type": "markdown",
   "metadata": {},
   "source": [
    "<a name='3-2'></a>\n",
    "### 3.2 - Train and Evaluate the Model\n",
    "\n",
    "After creating the model, compiling it with your choice of optimizer and loss function, and doing a sanity check on its contents, you are now ready to build! \n",
    "\n",
    "Simply call `.fit()` to train. That's it! No need for mini-batching, saving, or complex backpropagation computations. That's all been done for you, as you're using a TensorFlow dataset with the batches specified already. You do have the option to specify epoch number or minibatch size if you like (for example, in the case of an un-batched dataset)."
   ]
  },
  {
   "cell_type": "code",
   "execution_count": 8,
   "metadata": {},
   "outputs": [
    {
     "name": "stdout",
     "output_type": "stream",
     "text": [
      "Epoch 1/10\n",
      "38/38 [==============================] - 4s 97ms/step - loss: 0.6563 - accuracy: 0.7850\n",
      "Epoch 2/10\n",
      "38/38 [==============================] - 4s 92ms/step - loss: 0.1750 - accuracy: 0.9367\n",
      "Epoch 3/10\n",
      "38/38 [==============================] - 3s 90ms/step - loss: 0.1889 - accuracy: 0.9300\n",
      "Epoch 4/10\n",
      "38/38 [==============================] - 3s 90ms/step - loss: 0.1137 - accuracy: 0.9583\n",
      "Epoch 5/10\n",
      "38/38 [==============================] - 3s 92ms/step - loss: 0.1007 - accuracy: 0.9600\n",
      "Epoch 6/10\n",
      "38/38 [==============================] - 3s 90ms/step - loss: 0.1475 - accuracy: 0.9483\n",
      "Epoch 7/10\n",
      "38/38 [==============================] - 4s 92ms/step - loss: 0.2052 - accuracy: 0.9300\n",
      "Epoch 8/10\n",
      "38/38 [==============================] - 3s 92ms/step - loss: 0.0874 - accuracy: 0.9683\n",
      "Epoch 9/10\n",
      "38/38 [==============================] - 3s 90ms/step - loss: 0.0486 - accuracy: 0.9833\n",
      "Epoch 10/10\n",
      "38/38 [==============================] - 3s 92ms/step - loss: 0.0704 - accuracy: 0.9750\n"
     ]
    },
    {
     "data": {
      "text/plain": [
       "<tensorflow.python.keras.callbacks.History at 0x7fd76b9ff090>"
      ]
     },
     "execution_count": 8,
     "metadata": {},
     "output_type": "execute_result"
    }
   ],
   "source": [
    "happy_model.fit(X_train, Y_train, epochs=10, batch_size=16)"
   ]
  },
  {
   "cell_type": "markdown",
   "metadata": {},
   "source": [
    "After that completes, just use `.evaluate()` to evaluate against your test set. This function will print the value of the loss function and the performance metrics specified during the compilation of the model. In this case, the `binary_crossentropy` and the `accuracy` respectively."
   ]
  },
  {
   "cell_type": "code",
   "execution_count": 9,
   "metadata": {},
   "outputs": [
    {
     "name": "stdout",
     "output_type": "stream",
     "text": [
      "5/5 [==============================] - 0s 33ms/step - loss: 0.1391 - accuracy: 0.9333\n"
     ]
    },
    {
     "data": {
      "text/plain": [
       "[0.13909150660037994, 0.9333333373069763]"
      ]
     },
     "execution_count": 9,
     "metadata": {},
     "output_type": "execute_result"
    }
   ],
   "source": [
    "happy_model.evaluate(X_test, Y_test)"
   ]
  },
  {
   "cell_type": "markdown",
   "metadata": {},
   "source": [
    "Easy, right? But what if you need to build a model with shared layers, branches, or multiple inputs and outputs? This is where Sequential, with its beautifully simple yet limited functionality, won't be able to help you. \n",
    "\n",
    "Next up: Enter the Functional API, your slightly more complex, highly flexible friend.  "
   ]
  },
  {
   "cell_type": "markdown",
   "metadata": {},
   "source": [
    "<a name='4'></a>\n",
    "## 4 - The Functional API"
   ]
  },
  {
   "cell_type": "markdown",
   "metadata": {},
   "source": [
    "Welcome to the second half of the assignment, where you'll use Keras' flexible [Functional API](https://www.tensorflow.org/guide/keras/functional) to build a ConvNet that can differentiate between 6 sign language digits. \n",
    "\n",
    "The Functional API can handle models with non-linear topology, shared layers, as well as layers with multiple inputs or outputs. Imagine that, where the Sequential API requires the model to move in a linear fashion through its layers, the Functional API allows much more flexibility. Where Sequential is a straight line, a Functional model is a graph, where the nodes of the layers can connect in many more ways than one. \n",
    "\n",
    "In the visual example below, the one possible direction of the movement Sequential model is shown in contrast to a skip connection, which is just one of the many ways a Functional model can be constructed. A skip connection, as you might have guessed, skips some layer in the network and feeds the output to a later layer in the network. Don't worry, you'll be spending more time with skip connections very soon! "
   ]
  },
  {
   "cell_type": "markdown",
   "metadata": {},
   "source": [
    "<img src=\"images/seq_vs_func.png\" style=\"width:350px;height:200px;\">"
   ]
  },
  {
   "cell_type": "markdown",
   "metadata": {},
   "source": [
    "<a name='4-1'></a>\n",
    "### 4.1 - Load the SIGNS Dataset\n",
    "\n",
    "As a reminder, the SIGNS dataset is a collection of 6 signs representing numbers from 0 to 5."
   ]
  },
  {
   "cell_type": "code",
   "execution_count": 10,
   "metadata": {},
   "outputs": [],
   "source": [
    "# Loading the data (signs)\n",
    "X_train_orig, Y_train_orig, X_test_orig, Y_test_orig, classes = load_signs_dataset()"
   ]
  },
  {
   "cell_type": "markdown",
   "metadata": {},
   "source": [
    "<img src=\"images/SIGNS.png\" style=\"width:800px;height:300px;\">\n",
    "\n",
    "The next cell will show you an example of a labelled image in the dataset. Feel free to change the value of `index` below and re-run to see different examples. "
   ]
  },
  {
   "cell_type": "code",
   "execution_count": 11,
   "metadata": {},
   "outputs": [
    {
     "name": "stdout",
     "output_type": "stream",
     "text": [
      "y = 4\n"
     ]
    },
    {
     "data": {
      "image/png": "[encoded data removed]",
      "text/plain": [
       "<Figure size 432x288 with 1 Axes>"
      ]
     },
     "metadata": {
      "needs_background": "light"
     },
     "output_type": "display_data"
    }
   ],
   "source": [
    "# Example of an image from the dataset\n",
    "index = 9\n",
    "plt.imshow(X_train_orig[index])\n",
    "print (\"y = \" + str(np.squeeze(Y_train_orig[:, index])))"
   ]
  },
  {
   "cell_type": "markdown",
   "metadata": {},
   "source": [
    "<a name='4-2'></a>\n",
    "### 4.2 - Split the Data into Train/Test Sets\n",
    "\n",
    "In Course 2, you built a fully-connected network for this dataset. But since this is an image dataset, it is more natural to apply a ConvNet to it.\n",
    "\n",
    "To get started, let's examine the shapes of your data. "
   ]
  },
  {
   "cell_type": "code",
   "execution_count": 12,
   "metadata": {},
   "outputs": [
    {
     "name": "stdout",
     "output_type": "stream",
     "text": [
      "number of training examples = 1080\n",
      "number of test examples = 120\n",
      "X_train shape: (1080, 64, 64, 3)\n",
      "Y_train shape: (1080, 6)\n",
      "X_test shape: (120, 64, 64, 3)\n",
      "Y_test shape: (120, 6)\n"
     ]
    }
   ],
   "source": [
    "X_train = X_train_orig/255.\n",
    "X_test = X_test_orig/255.\n",
    "Y_train = convert_to_one_hot(Y_train_orig, 6).T\n",
    "Y_test = convert_to_one_hot(Y_test_orig, 6).T\n",
    "print (\"number of training examples = \" + str(X_train.shape[0]))\n",
    "print (\"number of test examples = \" + str(X_test.shape[0]))\n",
    "print (\"X_train shape: \" + str(X_train.shape))\n",
    "print (\"Y_train shape: \" + str(Y_train.shape))\n",
    "print (\"X_test shape: \" + str(X_test.shape))\n",
    "print (\"Y_test shape: \" + str(Y_test.shape))"
   ]
  },
  {
   "cell_type": "markdown",
   "metadata": {},
   "source": [
    "<a name='4-3'></a>\n",
    "### 4.3 - Forward Propagation\n",
    "\n",
    "In TensorFlow, there are built-in functions that implement the convolution steps for you. By now, you should be familiar with how TensorFlow builds computational graphs. In the [Functional API](https://www.tensorflow.org/guide/keras/functional), you create a graph of layers. This is what allows such great flexibility.\n",
    "\n",
    "However, the following model could also be defined using the Sequential API since the information flow is on a single line. But don't deviate. What we want you to learn is to use the functional API.\n",
    "\n",
    "Begin building your graph of layers by creating an input node that functions as a callable object:\n",
    "\n",
    "- **input_img = tf.keras.Input(shape=input_shape):** \n",
    "\n",
    "Then, create a new node in the graph of layers by calling a layer on the `input_img` object: \n",
    "\n",
    "- **tf.keras.layers.Conv2D(filters= ... , kernel_size= ... , padding='same')(input_img):** Read the full documentation on [Conv2D](https://www.tensorflow.org/api_docs/python/tf/keras/layers/Conv2D).\n",
    "\n",
    "- **tf.keras.layers.MaxPool2D(pool_size=(f, f), strides=(s, s), padding='same'):** `MaxPool2D()` downsamples your input using a window of size (f, f) and strides of size (s, s) to carry out max pooling over each window.  For max pooling, you usually operate on a single example at a time and a single channel at a time. Read the full documentation on [MaxPool2D](https://www.tensorflow.org/api_docs/python/tf/keras/layers/MaxPool2D).\n",
    "\n",
    "- **tf.keras.layers.ReLU():** computes the elementwise ReLU of Z (which can be any shape). You can read the full documentation on [ReLU](https://www.tensorflow.org/api_docs/python/tf/keras/layers/ReLU).\n",
    "\n",
    "- **tf.keras.layers.Flatten()**: given a tensor \"P\", this function takes each training (or test) example in the batch and flattens it into a 1D vector.  \n",
    "\n",
    "    * If a tensor P has the shape (batch_size,h,w,c), it returns a flattened tensor with shape (batch_size, k), where $k=h \\times w \\times c$.  \"k\" equals the product of all the dimension sizes other than the first dimension.\n",
    "    \n",
    "    * For example, given a tensor with dimensions [100, 2, 3, 4], it flattens the tensor to be of shape [100, 24], where 24 = 2 * 3 * 4.  You can read the full documentation on [Flatten](https://www.tensorflow.org/api_docs/python/tf/keras/layers/Flatten).\n",
    "\n",
    "- **tf.keras.layers.Dense(units= ... , activation='softmax')(F):** given the flattened input F, it returns the output computed using a fully connected layer. You can read the full documentation on [Dense](https://www.tensorflow.org/api_docs/python/tf/keras/layers/Dense).\n",
    "\n",
    "In the last function above (`tf.keras.layers.Dense()`), the fully connected layer automatically initializes weights in the graph and keeps on training them as you train the model. Hence, you did not need to initialize those weights when initializing the parameters.\n",
    "\n",
    "Lastly, before creating the model, you'll need to define the output using the last of the function's compositions (in this example, a Dense layer): \n",
    "\n",
    "- **outputs = tf.keras.layers.Dense(units=6, activation='softmax')(F)**\n",
    "\n",
    "\n",
    "#### Window, kernel, filter, pool\n",
    "\n",
    "The words \"kernel\" and \"filter\" are used to refer to the same thing. The word \"filter\" accounts for the amount of \"kernels\" that will be used in a single convolution layer. \"Pool\" is the name of the operation that takes the max or average value of the kernels. \n",
    "\n",
    "This is why the parameter `pool_size` refers to `kernel_size`, and you use `(f,f)` to refer to the filter size. \n",
    "\n",
    "Pool size and kernel size refer to the same thing in different objects - They refer to the shape of the window where the operation takes place. "
   ]
  },
  {
   "cell_type": "markdown",
   "metadata": {},
   "source": [
    "<a name='ex-2'></a>\n",
    "### Exercise 2 - convolutional_model\n",
    "\n",
    "Implement the `convolutional_model` function below to build the following model: `CONV2D -> RELU -> MAXPOOL -> CONV2D -> RELU -> MAXPOOL -> FLATTEN -> DENSE`. Use the functions above! \n",
    "\n",
    "Also, plug in the following parameters for all the steps:\n",
    "\n",
    " - [Conv2D](https://www.tensorflow.org/api_docs/python/tf/keras/layers/Conv2D): Use 8 4 by 4 filters, stride 1, padding is \"SAME\"\n",
    " - [ReLU](https://www.tensorflow.org/api_docs/python/tf/keras/layers/ReLU)\n",
    " - [MaxPool2D](https://www.tensorflow.org/api_docs/python/tf/keras/layers/MaxPool2D): Use an 8 by 8 filter size and an 8 by 8 stride, padding is \"SAME\"\n",
    " - **Conv2D**: Use 16 2 by 2 filters, stride 1, padding is \"SAME\"\n",
    " - **ReLU**\n",
    " - **MaxPool2D**: Use a 4 by 4 filter size and a 4 by 4 stride, padding is \"SAME\"\n",
    " - [Flatten](https://www.tensorflow.org/api_docs/python/tf/keras/layers/Flatten) the previous output.\n",
    " - Fully-connected ([Dense](https://www.tensorflow.org/api_docs/python/tf/keras/layers/Dense)) layer: Apply a fully connected layer with 6 neurons and a softmax activation. "
   ]
  },
  {
   "cell_type": "code",
   "execution_count": 13,
   "metadata": {
    "deletable": false,
    "nbgrader": {
     "cell_type": "code",
     "checksum": "f58643806aa8380c96225fc8b4c5e7aa",
     "grade": false,
     "grade_id": "cell-dac51744a9e03f51",
     "locked": false,
     "schema_version": 3,
     "solution": true,
     "task": false
    }
   },
   "outputs": [],
   "source": [
    "# GRADED FUNCTION: convolutional_model\n",
    "\n",
    "def convolutional_model(input_shape):\n",
    "    \"\"\"\n",
    "    Implements the forward propagation for the model:\n",
    "    CONV2D -> RELU -> MAXPOOL -> CONV2D -> RELU -> MAXPOOL -> FLATTEN -> DENSE\n",
    "    \n",
    "    Note that for simplicity and grading purposes, you'll hard-code some values\n",
    "    such as the stride and kernel (filter) sizes. \n",
    "    Normally, functions should take these values as function parameters.\n",
    "    \n",
    "    Arguments:\n",
    "    input_img -- input dataset, of shape (input_shape)\n",
    "\n",
    "    Returns:\n",
    "    model -- TF Keras model (object containing the information for the entire training process) \n",
    "    \"\"\"\n",
    "\n",
    "    input_img = tf.keras.Input(shape=input_shape)\n",
    "    ## CONV2D: 8 filters 4x4, stride of 1, padding 'SAME'\n",
    "    # Z1 = None\n",
    "    Z1=tf.keras.layers.Conv2D(8,4,1,'same')(input_img)\n",
    "    ## RELU\n",
    "    # A1 = None\n",
    "    A1=tf.keras.layers.ReLU()(Z1)\n",
    "    ## MAXPOOL: window 8x8, stride 8, padding 'SAME'\n",
    "    # P1 = None\n",
    "    P1=tf.keras.layers.MaxPool2D(8,8,'same')(A1)\n",
    "    ## CONV2D: 16 filters 2x2, stride 1, padding 'SAME'\n",
    "    # Z2 = None\n",
    "    Z2=tf.keras.layers.Conv2D(16,2,1,'same')(P1)\n",
    "    ## RELU\n",
    "    # A2 = None\n",
    "    A2=tf.keras.layers.ReLU()(Z2)\n",
    "    ## MAXPOOL: window 4x4, stride 4, padding 'SAME'\n",
    "    # P2 = None\n",
    "    P2=tf.keras.layers.MaxPool2D(4,4,'same')(A2)\n",
    "    ## FLATTEN\n",
    "    # F = None\n",
    "    F=tf.keras.layers.Flatten()(P2)\n",
    "    ## Dense layer\n",
    "    ## 6 neurons in output layer. Hint: one of the arguments should be \"activation='softmax'\" \n",
    "    # outputs = None\n",
    "    outputs=tf.keras.layers.Dense(6,'softmax')(F)\n",
    "    # YOUR CODE STARTS HERE\n",
    "    \n",
    "    \n",
    "    # YOUR CODE ENDS HERE\n",
    "    model = tf.keras.Model(inputs=input_img, outputs=outputs)\n",
    "    return model"
   ]
  },
  {
   "cell_type": "code",
   "execution_count": 14,
   "metadata": {
    "deletable": false,
    "editable": false,
    "nbgrader": {
     "cell_type": "code",
     "checksum": "483d626949930a0b0ef20997e7c6ba72",
     "grade": true,
     "grade_id": "cell-45d22e92042174c9",
     "locked": true,
     "points": 10,
     "schema_version": 3,
     "solution": false,
     "task": false
    }
   },
   "outputs": [
    {
     "name": "stdout",
     "output_type": "stream",
     "text": [
      "Model: \"functional_1\"\n",
      "_________________________________________________________________\n",
      "Layer (type)                 Output Shape              Param #   \n",
      "=================================================================\n",
      "input_1 (InputLayer)         [(None, 64, 64, 3)]       0         \n",
      "_________________________________________________________________\n",
      "conv2d_1 (Conv2D)            (None, 64, 64, 8)         392       \n",
      "_________________________________________________________________\n",
      "re_lu_1 (ReLU)               (None, 64, 64, 8)         0         \n",
      "_________________________________________________________________\n",
      "max_pooling2d_1 (MaxPooling2 (None, 8, 8, 8)           0         \n",
      "_________________________________________________________________\n",
      "conv2d_2 (Conv2D)            (None, 8, 8, 16)          528       \n",
      "_________________________________________________________________\n",
      "re_lu_2 (ReLU)               (None, 8, 8, 16)          0         \n",
      "_________________________________________________________________\n",
      "max_pooling2d_2 (MaxPooling2 (None, 2, 2, 16)          0         \n",
      "_________________________________________________________________\n",
      "flatten_1 (Flatten)          (None, 64)                0         \n",
      "_________________________________________________________________\n",
      "dense_1 (Dense)              (None, 6)                 390       \n",
      "=================================================================\n",
      "Total params: 1,310\n",
      "Trainable params: 1,310\n",
      "Non-trainable params: 0\n",
      "_________________________________________________________________\n",
      "\u001b[32mAll tests passed!\u001b[0m\n"
     ]
    }
   ],
   "source": [
    "conv_model = convolutional_model((64, 64, 3))\n",
    "conv_model.compile(optimizer='adam',\n",
    "                  loss='categorical_crossentropy',\n",
    "                  metrics=['accuracy'])\n",
    "conv_model.summary()\n",
    "    \n",
    "output = [['InputLayer', [(None, 64, 64, 3)], 0],\n",
    "        ['Conv2D', (None, 64, 64, 8), 392, 'same', 'linear', 'GlorotUniform'],\n",
    "        ['ReLU', (None, 64, 64, 8), 0],\n",
    "        ['MaxPooling2D', (None, 8, 8, 8), 0, (8, 8), (8, 8), 'same'],\n",
    "        ['Conv2D', (None, 8, 8, 16), 528, 'same', 'linear', 'GlorotUniform'],\n",
    "        ['ReLU', (None, 8, 8, 16), 0],\n",
    "        ['MaxPooling2D', (None, 2, 2, 16), 0, (4, 4), (4, 4), 'same'],\n",
    "        ['Flatten', (None, 64), 0],\n",
    "        ['Dense', (None, 6), 390, 'softmax']]\n",
    "    \n",
    "comparator(summary(conv_model), output)"
   ]
  },
  {
   "cell_type": "markdown",
   "metadata": {},
   "source": [
    "Both the Sequential and Functional APIs return a TF Keras model object. The only difference is how inputs are handled inside the object model! "
   ]
  },
  {
   "cell_type": "markdown",
   "metadata": {},
   "source": [
    "<a name='4-4'></a>\n",
    "### 4.4 - Train the Model"
   ]
  },
  {
   "cell_type": "code",
   "execution_count": 15,
   "metadata": {},
   "outputs": [
    {
     "name": "stdout",
     "output_type": "stream",
     "text": [
      "Epoch 1/100\n",
      "17/17 [==============================] - 2s 106ms/step - loss: 1.8143 - accuracy: 0.1667 - val_loss: 1.7940 - val_accuracy: 0.1667\n",
      "Epoch 2/100\n",
      "17/17 [==============================] - 2s 100ms/step - loss: 1.7915 - accuracy: 0.1843 - val_loss: 1.7878 - val_accuracy: 0.2583\n",
      "Epoch 3/100\n",
      "17/17 [==============================] - 2s 100ms/step - loss: 1.7849 - accuracy: 0.2102 - val_loss: 1.7836 - val_accuracy: 0.1917\n",
      "Epoch 4/100\n",
      "17/17 [==============================] - 2s 100ms/step - loss: 1.7784 - accuracy: 0.2019 - val_loss: 1.7801 - val_accuracy: 0.2083\n",
      "Epoch 5/100\n",
      "17/17 [==============================] - 2s 95ms/step - loss: 1.7728 - accuracy: 0.2731 - val_loss: 1.7751 - val_accuracy: 0.2833\n",
      "Epoch 6/100\n",
      "17/17 [==============================] - 2s 100ms/step - loss: 1.7645 - accuracy: 0.2824 - val_loss: 1.7679 - val_accuracy: 0.2750\n",
      "Epoch 7/100\n",
      "17/17 [==============================] - 2s 106ms/step - loss: 1.7536 - accuracy: 0.3093 - val_loss: 1.7574 - val_accuracy: 0.3000\n",
      "Epoch 8/100\n",
      "17/17 [==============================] - 2s 100ms/step - loss: 1.7397 - accuracy: 0.3380 - val_loss: 1.7433 - val_accuracy: 0.3583\n",
      "Epoch 9/100\n",
      "17/17 [==============================] - 2s 100ms/step - loss: 1.7216 - accuracy: 0.3537 - val_loss: 1.7249 - val_accuracy: 0.3750\n",
      "Epoch 10/100\n",
      "17/17 [==============================] - 2s 100ms/step - loss: 1.6975 - accuracy: 0.3806 - val_loss: 1.7003 - val_accuracy: 0.3833\n",
      "Epoch 11/100\n",
      "17/17 [==============================] - 2s 100ms/step - loss: 1.6662 - accuracy: 0.3889 - val_loss: 1.6679 - val_accuracy: 0.4167\n",
      "Epoch 12/100\n",
      "17/17 [==============================] - 2s 100ms/step - loss: 1.6262 - accuracy: 0.4056 - val_loss: 1.6339 - val_accuracy: 0.4833\n",
      "Epoch 13/100\n",
      "17/17 [==============================] - 2s 101ms/step - loss: 1.5811 - accuracy: 0.4343 - val_loss: 1.5966 - val_accuracy: 0.4583\n",
      "Epoch 14/100\n",
      "17/17 [==============================] - 2s 100ms/step - loss: 1.5325 - accuracy: 0.4509 - val_loss: 1.5558 - val_accuracy: 0.4333\n",
      "Epoch 15/100\n",
      "17/17 [==============================] - 2s 100ms/step - loss: 1.4822 - accuracy: 0.4704 - val_loss: 1.5142 - val_accuracy: 0.4500\n",
      "Epoch 16/100\n",
      "17/17 [==============================] - 2s 100ms/step - loss: 1.4284 - accuracy: 0.4991 - val_loss: 1.4666 - val_accuracy: 0.5083\n",
      "Epoch 17/100\n",
      "17/17 [==============================] - 2s 100ms/step - loss: 1.3730 - accuracy: 0.5444 - val_loss: 1.4167 - val_accuracy: 0.5583\n",
      "Epoch 18/100\n",
      "17/17 [==============================] - 2s 105ms/step - loss: 1.3187 - accuracy: 0.5704 - val_loss: 1.3593 - val_accuracy: 0.5917\n",
      "Epoch 19/100\n",
      "17/17 [==============================] - 2s 100ms/step - loss: 1.2655 - accuracy: 0.5944 - val_loss: 1.3090 - val_accuracy: 0.6083\n",
      "Epoch 20/100\n",
      "17/17 [==============================] - 2s 105ms/step - loss: 1.2140 - accuracy: 0.6176 - val_loss: 1.2563 - val_accuracy: 0.6083\n",
      "Epoch 21/100\n",
      "17/17 [==============================] - 2s 100ms/step - loss: 1.1634 - accuracy: 0.6380 - val_loss: 1.2073 - val_accuracy: 0.6417\n",
      "Epoch 22/100\n",
      "17/17 [==============================] - 2s 106ms/step - loss: 1.1145 - accuracy: 0.6602 - val_loss: 1.1626 - val_accuracy: 0.6417\n",
      "Epoch 23/100\n",
      "17/17 [==============================] - 2s 101ms/step - loss: 1.0676 - accuracy: 0.6778 - val_loss: 1.1156 - val_accuracy: 0.6667\n",
      "Epoch 24/100\n",
      "17/17 [==============================] - 2s 101ms/step - loss: 1.0232 - accuracy: 0.6935 - val_loss: 1.0746 - val_accuracy: 0.6667\n",
      "Epoch 25/100\n",
      "17/17 [==============================] - 2s 100ms/step - loss: 0.9811 - accuracy: 0.7065 - val_loss: 1.0370 - val_accuracy: 0.6833\n",
      "Epoch 26/100\n",
      "17/17 [==============================] - 2s 100ms/step - loss: 0.9429 - accuracy: 0.7148 - val_loss: 0.9985 - val_accuracy: 0.7000\n",
      "Epoch 27/100\n",
      "17/17 [==============================] - 2s 100ms/step - loss: 0.9079 - accuracy: 0.7278 - val_loss: 0.9655 - val_accuracy: 0.7250\n",
      "Epoch 28/100\n",
      "17/17 [==============================] - 2s 100ms/step - loss: 0.8754 - accuracy: 0.7380 - val_loss: 0.9355 - val_accuracy: 0.7333\n",
      "Epoch 29/100\n",
      "17/17 [==============================] - 2s 100ms/step - loss: 0.8455 - accuracy: 0.7546 - val_loss: 0.9077 - val_accuracy: 0.7167\n",
      "Epoch 30/100\n",
      "17/17 [==============================] - 2s 100ms/step - loss: 0.8180 - accuracy: 0.7657 - val_loss: 0.8807 - val_accuracy: 0.7250\n",
      "Epoch 31/100\n",
      "17/17 [==============================] - 2s 100ms/step - loss: 0.7931 - accuracy: 0.7750 - val_loss: 0.8558 - val_accuracy: 0.7333\n",
      "Epoch 32/100\n",
      "17/17 [==============================] - 2s 100ms/step - loss: 0.7693 - accuracy: 0.7815 - val_loss: 0.8328 - val_accuracy: 0.7333\n",
      "Epoch 33/100\n",
      "17/17 [==============================] - 2s 100ms/step - loss: 0.7478 - accuracy: 0.7898 - val_loss: 0.8126 - val_accuracy: 0.7333\n",
      "Epoch 34/100\n",
      "17/17 [==============================] - 2s 100ms/step - loss: 0.7273 - accuracy: 0.7944 - val_loss: 0.7920 - val_accuracy: 0.7417\n",
      "Epoch 35/100\n",
      "17/17 [==============================] - 2s 105ms/step - loss: 0.7087 - accuracy: 0.8037 - val_loss: 0.7728 - val_accuracy: 0.7583\n",
      "Epoch 36/100\n",
      "17/17 [==============================] - 2s 106ms/step - loss: 0.6915 - accuracy: 0.8056 - val_loss: 0.7572 - val_accuracy: 0.7583\n",
      "Epoch 37/100\n",
      "17/17 [==============================] - 2s 106ms/step - loss: 0.6738 - accuracy: 0.8120 - val_loss: 0.7400 - val_accuracy: 0.7667\n",
      "Epoch 38/100\n",
      "17/17 [==============================] - 2s 100ms/step - loss: 0.6588 - accuracy: 0.8167 - val_loss: 0.7255 - val_accuracy: 0.7750\n",
      "Epoch 39/100\n",
      "17/17 [==============================] - 2s 100ms/step - loss: 0.6439 - accuracy: 0.8204 - val_loss: 0.7123 - val_accuracy: 0.7833\n",
      "Epoch 40/100\n",
      "17/17 [==============================] - 2s 100ms/step - loss: 0.6298 - accuracy: 0.8241 - val_loss: 0.6995 - val_accuracy: 0.7833\n",
      "Epoch 41/100\n",
      "17/17 [==============================] - 2s 100ms/step - loss: 0.6172 - accuracy: 0.8269 - val_loss: 0.6881 - val_accuracy: 0.7833\n",
      "Epoch 42/100\n",
      "17/17 [==============================] - 2s 100ms/step - loss: 0.6049 - accuracy: 0.8306 - val_loss: 0.6764 - val_accuracy: 0.7833\n",
      "Epoch 43/100\n",
      "17/17 [==============================] - 2s 101ms/step - loss: 0.5925 - accuracy: 0.8324 - val_loss: 0.6661 - val_accuracy: 0.7833\n",
      "Epoch 44/100\n",
      "17/17 [==============================] - 2s 100ms/step - loss: 0.5815 - accuracy: 0.8333 - val_loss: 0.6558 - val_accuracy: 0.7917\n",
      "Epoch 45/100\n",
      "17/17 [==============================] - 2s 101ms/step - loss: 0.5707 - accuracy: 0.8361 - val_loss: 0.6459 - val_accuracy: 0.8000\n",
      "Epoch 46/100\n",
      "17/17 [==============================] - 2s 100ms/step - loss: 0.5606 - accuracy: 0.8370 - val_loss: 0.6370 - val_accuracy: 0.8000\n",
      "Epoch 47/100\n",
      "17/17 [==============================] - 2s 100ms/step - loss: 0.5508 - accuracy: 0.8389 - val_loss: 0.6281 - val_accuracy: 0.8000\n",
      "Epoch 48/100\n",
      "17/17 [==============================] - 2s 100ms/step - loss: 0.5411 - accuracy: 0.8417 - val_loss: 0.6198 - val_accuracy: 0.8000\n",
      "Epoch 49/100\n",
      "17/17 [==============================] - 2s 105ms/step - loss: 0.5317 - accuracy: 0.8491 - val_loss: 0.6111 - val_accuracy: 0.8000\n",
      "Epoch 50/100\n",
      "17/17 [==============================] - 2s 100ms/step - loss: 0.5225 - accuracy: 0.8528 - val_loss: 0.6041 - val_accuracy: 0.8000\n",
      "Epoch 51/100\n",
      "17/17 [==============================] - 2s 101ms/step - loss: 0.5139 - accuracy: 0.8556 - val_loss: 0.5965 - val_accuracy: 0.8083\n",
      "Epoch 52/100\n",
      "17/17 [==============================] - 2s 101ms/step - loss: 0.5060 - accuracy: 0.8574 - val_loss: 0.5899 - val_accuracy: 0.8083\n",
      "Epoch 53/100\n",
      "17/17 [==============================] - 2s 100ms/step - loss: 0.4981 - accuracy: 0.8602 - val_loss: 0.5834 - val_accuracy: 0.8083\n",
      "Epoch 54/100\n",
      "17/17 [==============================] - 2s 100ms/step - loss: 0.4905 - accuracy: 0.8630 - val_loss: 0.5769 - val_accuracy: 0.8167\n",
      "Epoch 55/100\n",
      "17/17 [==============================] - 2s 100ms/step - loss: 0.4832 - accuracy: 0.8667 - val_loss: 0.5712 - val_accuracy: 0.8167\n",
      "Epoch 56/100\n",
      "17/17 [==============================] - 2s 106ms/step - loss: 0.4763 - accuracy: 0.8685 - val_loss: 0.5664 - val_accuracy: 0.8167\n",
      "Epoch 57/100\n",
      "17/17 [==============================] - 2s 100ms/step - loss: 0.4692 - accuracy: 0.8713 - val_loss: 0.5600 - val_accuracy: 0.8167\n",
      "Epoch 58/100\n",
      "17/17 [==============================] - 2s 100ms/step - loss: 0.4629 - accuracy: 0.8731 - val_loss: 0.5551 - val_accuracy: 0.8167\n",
      "Epoch 59/100\n",
      "17/17 [==============================] - 2s 101ms/step - loss: 0.4565 - accuracy: 0.8759 - val_loss: 0.5498 - val_accuracy: 0.8167\n",
      "Epoch 60/100\n",
      "17/17 [==============================] - 2s 100ms/step - loss: 0.4506 - accuracy: 0.8787 - val_loss: 0.5453 - val_accuracy: 0.8250\n",
      "Epoch 61/100\n",
      "17/17 [==============================] - 2s 101ms/step - loss: 0.4443 - accuracy: 0.8824 - val_loss: 0.5402 - val_accuracy: 0.8250\n",
      "Epoch 62/100\n",
      "17/17 [==============================] - 2s 100ms/step - loss: 0.4386 - accuracy: 0.8833 - val_loss: 0.5355 - val_accuracy: 0.8167\n",
      "Epoch 63/100\n",
      "17/17 [==============================] - 2s 105ms/step - loss: 0.4327 - accuracy: 0.8852 - val_loss: 0.5303 - val_accuracy: 0.8167\n",
      "Epoch 64/100\n",
      "17/17 [==============================] - 2s 101ms/step - loss: 0.4274 - accuracy: 0.8852 - val_loss: 0.5261 - val_accuracy: 0.8167\n",
      "Epoch 65/100\n",
      "17/17 [==============================] - 2s 100ms/step - loss: 0.4219 - accuracy: 0.8861 - val_loss: 0.5215 - val_accuracy: 0.8167\n",
      "Epoch 66/100\n",
      "17/17 [==============================] - 2s 100ms/step - loss: 0.4168 - accuracy: 0.8861 - val_loss: 0.5177 - val_accuracy: 0.8083\n",
      "Epoch 67/100\n",
      "17/17 [==============================] - 2s 105ms/step - loss: 0.4115 - accuracy: 0.8861 - val_loss: 0.5129 - val_accuracy: 0.8250\n",
      "Epoch 68/100\n",
      "17/17 [==============================] - 2s 100ms/step - loss: 0.4064 - accuracy: 0.8870 - val_loss: 0.5092 - val_accuracy: 0.8083\n",
      "Epoch 69/100\n",
      "17/17 [==============================] - 2s 106ms/step - loss: 0.4019 - accuracy: 0.8889 - val_loss: 0.5053 - val_accuracy: 0.8250\n",
      "Epoch 70/100\n",
      "17/17 [==============================] - 2s 101ms/step - loss: 0.3972 - accuracy: 0.8907 - val_loss: 0.5022 - val_accuracy: 0.8167\n",
      "Epoch 71/100\n",
      "17/17 [==============================] - 2s 101ms/step - loss: 0.3926 - accuracy: 0.8898 - val_loss: 0.4973 - val_accuracy: 0.8167\n",
      "Epoch 72/100\n",
      "17/17 [==============================] - 2s 100ms/step - loss: 0.3882 - accuracy: 0.8944 - val_loss: 0.4945 - val_accuracy: 0.8167\n",
      "Epoch 73/100\n",
      "17/17 [==============================] - 2s 100ms/step - loss: 0.3840 - accuracy: 0.8944 - val_loss: 0.4915 - val_accuracy: 0.8167\n",
      "Epoch 74/100\n",
      "17/17 [==============================] - 2s 101ms/step - loss: 0.3796 - accuracy: 0.8944 - val_loss: 0.4871 - val_accuracy: 0.8250\n",
      "Epoch 75/100\n",
      "17/17 [==============================] - 2s 100ms/step - loss: 0.3758 - accuracy: 0.8972 - val_loss: 0.4855 - val_accuracy: 0.8167\n",
      "Epoch 76/100\n",
      "17/17 [==============================] - 2s 105ms/step - loss: 0.3717 - accuracy: 0.8981 - val_loss: 0.4812 - val_accuracy: 0.8333\n",
      "Epoch 77/100\n",
      "17/17 [==============================] - 2s 100ms/step - loss: 0.3680 - accuracy: 0.8981 - val_loss: 0.4790 - val_accuracy: 0.8250\n",
      "Epoch 78/100\n",
      "17/17 [==============================] - 2s 105ms/step - loss: 0.3640 - accuracy: 0.8991 - val_loss: 0.4761 - val_accuracy: 0.8333\n",
      "Epoch 79/100\n",
      "17/17 [==============================] - 2s 100ms/step - loss: 0.3605 - accuracy: 0.8991 - val_loss: 0.4730 - val_accuracy: 0.8417\n",
      "Epoch 80/100\n",
      "17/17 [==============================] - 2s 100ms/step - loss: 0.3571 - accuracy: 0.9019 - val_loss: 0.4710 - val_accuracy: 0.8417\n",
      "Epoch 81/100\n",
      "17/17 [==============================] - 2s 106ms/step - loss: 0.3534 - accuracy: 0.9037 - val_loss: 0.4679 - val_accuracy: 0.8417\n",
      "Epoch 82/100\n",
      "17/17 [==============================] - 2s 100ms/step - loss: 0.3503 - accuracy: 0.9037 - val_loss: 0.4659 - val_accuracy: 0.8417\n",
      "Epoch 83/100\n",
      "17/17 [==============================] - 2s 100ms/step - loss: 0.3468 - accuracy: 0.9037 - val_loss: 0.4630 - val_accuracy: 0.8417\n",
      "Epoch 84/100\n",
      "17/17 [==============================] - 2s 100ms/step - loss: 0.3438 - accuracy: 0.9046 - val_loss: 0.4618 - val_accuracy: 0.8417\n",
      "Epoch 85/100\n",
      "17/17 [==============================] - 2s 100ms/step - loss: 0.3403 - accuracy: 0.9037 - val_loss: 0.4589 - val_accuracy: 0.8417\n",
      "Epoch 86/100\n",
      "17/17 [==============================] - 2s 106ms/step - loss: 0.3373 - accuracy: 0.9037 - val_loss: 0.4571 - val_accuracy: 0.8417\n",
      "Epoch 87/100\n",
      "17/17 [==============================] - 2s 100ms/step - loss: 0.3340 - accuracy: 0.9056 - val_loss: 0.4556 - val_accuracy: 0.8417\n",
      "Epoch 88/100\n",
      "17/17 [==============================] - 2s 101ms/step - loss: 0.3311 - accuracy: 0.9074 - val_loss: 0.4532 - val_accuracy: 0.8417\n",
      "Epoch 89/100\n",
      "17/17 [==============================] - 2s 95ms/step - loss: 0.3282 - accuracy: 0.9074 - val_loss: 0.4514 - val_accuracy: 0.8417\n",
      "Epoch 90/100\n",
      "17/17 [==============================] - 2s 100ms/step - loss: 0.3254 - accuracy: 0.9102 - val_loss: 0.4496 - val_accuracy: 0.8417\n",
      "Epoch 91/100\n",
      "17/17 [==============================] - 2s 100ms/step - loss: 0.3224 - accuracy: 0.9102 - val_loss: 0.4479 - val_accuracy: 0.8583\n",
      "Epoch 92/100\n",
      "17/17 [==============================] - 2s 100ms/step - loss: 0.3200 - accuracy: 0.9139 - val_loss: 0.4464 - val_accuracy: 0.8667\n",
      "Epoch 93/100\n",
      "17/17 [==============================] - 2s 106ms/step - loss: 0.3169 - accuracy: 0.9139 - val_loss: 0.4441 - val_accuracy: 0.8667\n",
      "Epoch 94/100\n",
      "17/17 [==============================] - 2s 100ms/step - loss: 0.3146 - accuracy: 0.9148 - val_loss: 0.4437 - val_accuracy: 0.8667\n",
      "Epoch 95/100\n",
      "17/17 [==============================] - 2s 100ms/step - loss: 0.3119 - accuracy: 0.9157 - val_loss: 0.4409 - val_accuracy: 0.8750\n",
      "Epoch 96/100\n",
      "17/17 [==============================] - 2s 101ms/step - loss: 0.3100 - accuracy: 0.9139 - val_loss: 0.4415 - val_accuracy: 0.8750\n",
      "Epoch 97/100\n",
      "17/17 [==============================] - 2s 100ms/step - loss: 0.3075 - accuracy: 0.9139 - val_loss: 0.4385 - val_accuracy: 0.8750\n",
      "Epoch 98/100\n",
      "17/17 [==============================] - 2s 106ms/step - loss: 0.3054 - accuracy: 0.9185 - val_loss: 0.4382 - val_accuracy: 0.8750\n",
      "Epoch 99/100\n",
      "17/17 [==============================] - 2s 105ms/step - loss: 0.3026 - accuracy: 0.9167 - val_loss: 0.4356 - val_accuracy: 0.8750\n",
      "Epoch 100/100\n",
      "17/17 [==============================] - 2s 100ms/step - loss: 0.3009 - accuracy: 0.9167 - val_loss: 0.4350 - val_accuracy: 0.8750\n"
     ]
    }
   ],
   "source": [
    "train_dataset = tf.data.Dataset.from_tensor_slices((X_train, Y_train)).batch(64)\n",
    "test_dataset = tf.data.Dataset.from_tensor_slices((X_test, Y_test)).batch(64)\n",
    "history = conv_model.fit(train_dataset, epochs=100, validation_data=test_dataset)"
   ]
  },
  {
   "cell_type": "markdown",
   "metadata": {},
   "source": [
    "<a name='5'></a>\n",
    "## 5 - History Object \n",
    "\n",
    "The history object is an output of the `.fit()` operation, and provides a record of all the loss and metric values in memory. It's stored as a dictionary that you can retrieve at `history.history`: "
   ]
  },
  {
   "cell_type": "code",
   "execution_count": 16,
   "metadata": {},
   "outputs": [
    {
     "data": {
      "text/plain": [
       "{'loss': [1.8142955303192139,\n",
       "  1.7914953231811523,\n",
       "  1.7849129438400269,\n",
       "  1.7783797979354858,\n",
       "  1.772820234298706,\n",
       "  1.764455795288086,\n",
       "  1.7536474466323853,\n",
       "  1.7396923303604126,\n",
       "  1.7215967178344727,\n",
       "  1.6975207328796387,\n",
       "  1.6662375926971436,\n",
       "  1.6261935234069824,\n",
       "  1.5810600519180298,\n",
       "  1.5325380563735962,\n",
       "  1.4821995496749878,\n",
       "  1.4284285306930542,\n",
       "  1.3729783296585083,\n",
       "  1.318650484085083,\n",
       "  1.2655165195465088,\n",
       "  1.2140026092529297,\n",
       "  1.163425087928772,\n",
       "  1.1144579648971558,\n",
       "  1.067636489868164,\n",
       "  1.0231934785842896,\n",
       "  0.9811107516288757,\n",
       "  0.942901074886322,\n",
       "  0.9078643918037415,\n",
       "  0.8753623962402344,\n",
       "  0.8455137610435486,\n",
       "  0.8180332183837891,\n",
       "  0.7930599451065063,\n",
       "  0.7693269848823547,\n",
       "  0.7477776408195496,\n",
       "  0.7273181676864624,\n",
       "  0.7087387442588806,\n",
       "  0.6914674639701843,\n",
       "  0.6738446354866028,\n",
       "  0.6587650775909424,\n",
       "  0.6438553333282471,\n",
       "  0.6297604441642761,\n",
       "  0.6172229647636414,\n",
       "  0.6049085259437561,\n",
       "  0.5925028920173645,\n",
       "  0.5814706683158875,\n",
       "  0.5707098841667175,\n",
       "  0.5605977177619934,\n",
       "  0.5508354902267456,\n",
       "  0.541141152381897,\n",
       "  0.531705915927887,\n",
       "  0.5224798321723938,\n",
       "  0.5139371156692505,\n",
       "  0.5060349702835083,\n",
       "  0.4981096088886261,\n",
       "  0.4904821217060089,\n",
       "  0.4831543564796448,\n",
       "  0.47627246379852295,\n",
       "  0.46920663118362427,\n",
       "  0.46294593811035156,\n",
       "  0.4564569592475891,\n",
       "  0.45057520270347595,\n",
       "  0.44425275921821594,\n",
       "  0.43864965438842773,\n",
       "  0.43267226219177246,\n",
       "  0.4274238049983978,\n",
       "  0.4218597114086151,\n",
       "  0.4168255925178528,\n",
       "  0.4115349352359772,\n",
       "  0.4064214527606964,\n",
       "  0.40189486742019653,\n",
       "  0.3972267508506775,\n",
       "  0.3925726115703583,\n",
       "  0.3882293999195099,\n",
       "  0.3839550316333771,\n",
       "  0.3795911371707916,\n",
       "  0.37577688694000244,\n",
       "  0.3717319071292877,\n",
       "  0.3679857850074768,\n",
       "  0.3640429675579071,\n",
       "  0.36051976680755615,\n",
       "  0.35712215304374695,\n",
       "  0.3533698320388794,\n",
       "  0.35029861330986023,\n",
       "  0.34678611159324646,\n",
       "  0.34375786781311035,\n",
       "  0.34032920002937317,\n",
       "  0.33730483055114746,\n",
       "  0.33400759100914,\n",
       "  0.33113613724708557,\n",
       "  0.3281756341457367,\n",
       "  0.32536759972572327,\n",
       "  0.32237952947616577,\n",
       "  0.31998589634895325,\n",
       "  0.3168930113315582,\n",
       "  0.31460607051849365,\n",
       "  0.31188350915908813,\n",
       "  0.3099578320980072,\n",
       "  0.3074813485145569,\n",
       "  0.3054240345954895,\n",
       "  0.3025800883769989,\n",
       "  0.3009030222892761],\n",
       " 'accuracy': [0.1666666716337204,\n",
       "  0.18425926566123962,\n",
       "  0.2101851850748062,\n",
       "  0.20185184478759766,\n",
       "  0.27314814925193787,\n",
       "  0.28240740299224854,\n",
       "  0.3092592656612396,\n",
       "  0.33796295523643494,\n",
       "  0.35370370745658875,\n",
       "  0.38055557012557983,\n",
       "  0.3888888955116272,\n",
       "  0.4055555462837219,\n",
       "  0.4342592656612396,\n",
       "  0.45092591643333435,\n",
       "  0.4703703820705414,\n",
       "  0.4990740716457367,\n",
       "  0.5444444417953491,\n",
       "  0.5703703761100769,\n",
       "  0.5944444537162781,\n",
       "  0.6175925731658936,\n",
       "  0.6379629373550415,\n",
       "  0.6601851582527161,\n",
       "  0.6777777671813965,\n",
       "  0.6935185194015503,\n",
       "  0.7064814567565918,\n",
       "  0.7148148417472839,\n",
       "  0.7277777791023254,\n",
       "  0.7379629611968994,\n",
       "  0.7546296119689941,\n",
       "  0.7657407522201538,\n",
       "  0.7749999761581421,\n",
       "  0.7814815044403076,\n",
       "  0.789814829826355,\n",
       "  0.7944444417953491,\n",
       "  0.8037037253379822,\n",
       "  0.8055555820465088,\n",
       "  0.8120370507240295,\n",
       "  0.8166666626930237,\n",
       "  0.8203703761100769,\n",
       "  0.8240740895271301,\n",
       "  0.8268518447875977,\n",
       "  0.8305555582046509,\n",
       "  0.8324074149131775,\n",
       "  0.8333333134651184,\n",
       "  0.8361111283302307,\n",
       "  0.8370370268821716,\n",
       "  0.8388888835906982,\n",
       "  0.8416666388511658,\n",
       "  0.8490740656852722,\n",
       "  0.8527777791023254,\n",
       "  0.855555534362793,\n",
       "  0.8574073910713196,\n",
       "  0.8601852059364319,\n",
       "  0.8629629611968994,\n",
       "  0.8666666746139526,\n",
       "  0.8685185313224792,\n",
       "  0.8712962865829468,\n",
       "  0.8731481432914734,\n",
       "  0.8759258985519409,\n",
       "  0.8787037134170532,\n",
       "  0.8824074268341064,\n",
       "  0.8833333253860474,\n",
       "  0.885185182094574,\n",
       "  0.885185182094574,\n",
       "  0.8861111402511597,\n",
       "  0.8861111402511597,\n",
       "  0.8861111402511597,\n",
       "  0.8870370388031006,\n",
       "  0.8888888955116272,\n",
       "  0.8907407522201538,\n",
       "  0.8898147940635681,\n",
       "  0.894444465637207,\n",
       "  0.894444465637207,\n",
       "  0.894444465637207,\n",
       "  0.8972222208976746,\n",
       "  0.8981481194496155,\n",
       "  0.8981481194496155,\n",
       "  0.8990740776062012,\n",
       "  0.8990740776062012,\n",
       "  0.9018518328666687,\n",
       "  0.9037036895751953,\n",
       "  0.9037036895751953,\n",
       "  0.9037036895751953,\n",
       "  0.904629647731781,\n",
       "  0.9037036895751953,\n",
       "  0.9037036895751953,\n",
       "  0.9055555462837219,\n",
       "  0.9074074029922485,\n",
       "  0.9074074029922485,\n",
       "  0.9101851582527161,\n",
       "  0.9101851582527161,\n",
       "  0.9138888716697693,\n",
       "  0.9138888716697693,\n",
       "  0.914814829826355,\n",
       "  0.9157407283782959,\n",
       "  0.9138888716697693,\n",
       "  0.9138888716697693,\n",
       "  0.9185185432434082,\n",
       "  0.9166666865348816,\n",
       "  0.9166666865348816],\n",
       " 'val_loss': [1.7940428256988525,\n",
       "  1.787785291671753,\n",
       "  1.783582091331482,\n",
       "  1.7800791263580322,\n",
       "  1.775128960609436,\n",
       "  1.7679150104522705,\n",
       "  1.7573654651641846,\n",
       "  1.743342638015747,\n",
       "  1.7249054908752441,\n",
       "  1.7003140449523926,\n",
       "  1.6678636074066162,\n",
       "  1.633941411972046,\n",
       "  1.5966473817825317,\n",
       "  1.5558068752288818,\n",
       "  1.514244556427002,\n",
       "  1.4666485786437988,\n",
       "  1.4167202711105347,\n",
       "  1.3592928647994995,\n",
       "  1.3089646100997925,\n",
       "  1.25634765625,\n",
       "  1.207293152809143,\n",
       "  1.1626225709915161,\n",
       "  1.1156411170959473,\n",
       "  1.0745890140533447,\n",
       "  1.0370452404022217,\n",
       "  0.9985345005989075,\n",
       "  0.9655340909957886,\n",
       "  0.9354703426361084,\n",
       "  0.9076928496360779,\n",
       "  0.8807213306427002,\n",
       "  0.8558244109153748,\n",
       "  0.8327564001083374,\n",
       "  0.812618613243103,\n",
       "  0.7920414805412292,\n",
       "  0.7727591395378113,\n",
       "  0.7571710348129272,\n",
       "  0.7399901151657104,\n",
       "  0.725517988204956,\n",
       "  0.7122748494148254,\n",
       "  0.6995477080345154,\n",
       "  0.6881144642829895,\n",
       "  0.6763564944267273,\n",
       "  0.6660606265068054,\n",
       "  0.6558108925819397,\n",
       "  0.6458517909049988,\n",
       "  0.6369678378105164,\n",
       "  0.628051221370697,\n",
       "  0.6197828650474548,\n",
       "  0.6111253499984741,\n",
       "  0.6041328310966492,\n",
       "  0.5964562296867371,\n",
       "  0.5898517370223999,\n",
       "  0.583352267742157,\n",
       "  0.5769098997116089,\n",
       "  0.571151077747345,\n",
       "  0.5664125084877014,\n",
       "  0.5599852204322815,\n",
       "  0.5551307797431946,\n",
       "  0.5498036742210388,\n",
       "  0.5452943444252014,\n",
       "  0.5402292609214783,\n",
       "  0.5355049967765808,\n",
       "  0.5302704572677612,\n",
       "  0.5260574817657471,\n",
       "  0.5215231776237488,\n",
       "  0.5177205801010132,\n",
       "  0.5129274129867554,\n",
       "  0.5091766119003296,\n",
       "  0.5053289532661438,\n",
       "  0.5022298693656921,\n",
       "  0.49730807542800903,\n",
       "  0.4945415258407593,\n",
       "  0.49148768186569214,\n",
       "  0.4871056377887726,\n",
       "  0.4854597747325897,\n",
       "  0.48122310638427734,\n",
       "  0.47900453209877014,\n",
       "  0.47612521052360535,\n",
       "  0.47300225496292114,\n",
       "  0.47101670503616333,\n",
       "  0.46790963411331177,\n",
       "  0.46591511368751526,\n",
       "  0.4629719853401184,\n",
       "  0.4617886245250702,\n",
       "  0.45893722772598267,\n",
       "  0.4570883512496948,\n",
       "  0.45555633306503296,\n",
       "  0.4532238841056824,\n",
       "  0.4513738751411438,\n",
       "  0.44964930415153503,\n",
       "  0.44789430499076843,\n",
       "  0.44640418887138367,\n",
       "  0.44413337111473083,\n",
       "  0.44367849826812744,\n",
       "  0.44085294008255005,\n",
       "  0.4414510130882263,\n",
       "  0.43852391839027405,\n",
       "  0.438241571187973,\n",
       "  0.43563488125801086,\n",
       "  0.4349861443042755],\n",
       " 'val_accuracy': [0.1666666716337204,\n",
       "  0.25833332538604736,\n",
       "  0.19166666269302368,\n",
       "  0.2083333283662796,\n",
       "  0.28333333134651184,\n",
       "  0.2750000059604645,\n",
       "  0.30000001192092896,\n",
       "  0.3583333194255829,\n",
       "  0.375,\n",
       "  0.38333332538604736,\n",
       "  0.4166666567325592,\n",
       "  0.4833333194255829,\n",
       "  0.4583333432674408,\n",
       "  0.4333333373069763,\n",
       "  0.44999998807907104,\n",
       "  0.5083333253860474,\n",
       "  0.5583333373069763,\n",
       "  0.5916666388511658,\n",
       "  0.6083333492279053,\n",
       "  0.6083333492279053,\n",
       "  0.6416666507720947,\n",
       "  0.6416666507720947,\n",
       "  0.6666666865348816,\n",
       "  0.6666666865348816,\n",
       "  0.6833333373069763,\n",
       "  0.699999988079071,\n",
       "  0.7250000238418579,\n",
       "  0.7333333492279053,\n",
       "  0.7166666388511658,\n",
       "  0.7250000238418579,\n",
       "  0.7333333492279053,\n",
       "  0.7333333492279053,\n",
       "  0.7333333492279053,\n",
       "  0.7416666746139526,\n",
       "  0.7583333253860474,\n",
       "  0.7583333253860474,\n",
       "  0.7666666507720947,\n",
       "  0.7749999761581421,\n",
       "  0.7833333611488342,\n",
       "  0.7833333611488342,\n",
       "  0.7833333611488342,\n",
       "  0.7833333611488342,\n",
       "  0.7833333611488342,\n",
       "  0.7916666865348816,\n",
       "  0.800000011920929,\n",
       "  0.800000011920929,\n",
       "  0.800000011920929,\n",
       "  0.800000011920929,\n",
       "  0.800000011920929,\n",
       "  0.800000011920929,\n",
       "  0.8083333373069763,\n",
       "  0.8083333373069763,\n",
       "  0.8083333373069763,\n",
       "  0.8166666626930237,\n",
       "  0.8166666626930237,\n",
       "  0.8166666626930237,\n",
       "  0.8166666626930237,\n",
       "  0.8166666626930237,\n",
       "  0.8166666626930237,\n",
       "  0.824999988079071,\n",
       "  0.824999988079071,\n",
       "  0.8166666626930237,\n",
       "  0.8166666626930237,\n",
       "  0.8166666626930237,\n",
       "  0.8166666626930237,\n",
       "  0.8083333373069763,\n",
       "  0.824999988079071,\n",
       "  0.8083333373069763,\n",
       "  0.824999988079071,\n",
       "  0.8166666626930237,\n",
       "  0.8166666626930237,\n",
       "  0.8166666626930237,\n",
       "  0.8166666626930237,\n",
       "  0.824999988079071,\n",
       "  0.8166666626930237,\n",
       "  0.8333333134651184,\n",
       "  0.824999988079071,\n",
       "  0.8333333134651184,\n",
       "  0.8416666388511658,\n",
       "  0.8416666388511658,\n",
       "  0.8416666388511658,\n",
       "  0.8416666388511658,\n",
       "  0.8416666388511658,\n",
       "  0.8416666388511658,\n",
       "  0.8416666388511658,\n",
       "  0.8416666388511658,\n",
       "  0.8416666388511658,\n",
       "  0.8416666388511658,\n",
       "  0.8416666388511658,\n",
       "  0.8416666388511658,\n",
       "  0.8583333492279053,\n",
       "  0.8666666746139526,\n",
       "  0.8666666746139526,\n",
       "  0.8666666746139526,\n",
       "  0.875,\n",
       "  0.875,\n",
       "  0.875,\n",
       "  0.875,\n",
       "  0.875,\n",
       "  0.875]}"
      ]
     },
     "execution_count": 16,
     "metadata": {},
     "output_type": "execute_result"
    }
   ],
   "source": [
    "history.history"
   ]
  },
  {
   "cell_type": "markdown",
   "metadata": {},
   "source": [
    "Now visualize the loss over time using `history.history`: "
   ]
  },
  {
   "cell_type": "code",
   "execution_count": 17,
   "metadata": {},
   "outputs": [
    {
     "data": {
      "text/plain": [
       "[Text(0, 0.5, 'Accuracy'), Text(0.5, 0, 'Epoch')]"
      ]
     },
     "execution_count": 17,
     "metadata": {},
     "output_type": "execute_result"
    },
    {
     "data": {
      "image/png": "[encoded data removed]",
      "text/plain": [
       "<Figure size 864x576 with 1 Axes>"
      ]
     },
     "metadata": {
      "needs_background": "light"
     },
     "output_type": "display_data"
    },
    {
     "data": {
      "image/png": "[encoded data removed]",
      "text/plain": [
       "<Figure size 864x576 with 1 Axes>"
      ]
     },
     "metadata": {
      "needs_background": "light"
     },
     "output_type": "display_data"
    }
   ],
   "source": [
    "# The history.history[\"loss\"] entry is a dictionary with as many values as epochs that the\n",
    "# model was trained on. \n",
    "df_loss_acc = pd.DataFrame(history.history)\n",
    "df_loss= df_loss_acc[['loss','val_loss']]\n",
    "df_loss.rename(columns={'loss':'train','val_loss':'validation'},inplace=True)\n",
    "df_acc= df_loss_acc[['accuracy','val_accuracy']]\n",
    "df_acc.rename(columns={'accuracy':'train','val_accuracy':'validation'},inplace=True)\n",
    "df_loss.plot(title='Model loss',figsize=(12,8)).set(xlabel='Epoch',ylabel='Loss')\n",
    "df_acc.plot(title='Model Accuracy',figsize=(12,8)).set(xlabel='Epoch',ylabel='Accuracy')"
   ]
  },
  {
   "cell_type": "markdown",
   "metadata": {},
   "source": [
    "**Congratulations**! You've finished the assignment and built two models: One that recognizes  smiles, and another that recognizes SIGN language with almost 80% accuracy on the test set. In addition to that, you now also understand the applications of two Keras APIs: Sequential and Functional. Nicely done! \n",
    "\n",
    "By now, you know a bit about how the Functional API works and may have glimpsed the possibilities. In your next assignment, you'll really get a feel for its power when you get the opportunity to build a very deep ConvNet, using ResNets! "
   ]
  },
  {
   "cell_type": "markdown",
   "metadata": {},
   "source": [
    "<a name='6'></a>\n",
    "## 6 - Bibliography\n",
    "\n",
    "You're always encouraged to read the official documentation. To that end, you can find the docs for the Sequential and Functional APIs here: \n",
    "\n",
    "https://www.tensorflow.org/guide/keras/sequential_model\n",
    "\n",
    "https://www.tensorflow.org/guide/keras/functional"
   ]
  }
 ],
 "metadata": {
  "coursera": {
   "course_slug": "convolutional-neural-networks",
   "graded_item_id": "bwbJV",
   "launcher_item_id": "0TkXB"
  },
  "kernelspec": {
   "display_name": "Python 3",
   "language": "python",
   "name": "python3"
  },
  "language_info": {
   "codemirror_mode": {
    "name": "ipython",
    "version": 3
   },
   "file_extension": ".py",
   "mimetype": "text/x-python",
   "name": "python",
   "nbconvert_exporter": "python",
   "pygments_lexer": "ipython3",
   "version": "3.7.6"
  }
 },
 "nbformat": 4,
 "nbformat_minor": 2
}
